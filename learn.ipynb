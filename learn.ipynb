{
 "cells": [
  {
   "cell_type": "code",
   "execution_count": 2,
   "metadata": {},
   "outputs": [
    {
     "name": "stdout",
     "output_type": "stream",
     "text": [
      "WARNING:tensorflow:From c:\\Users\\WIN\\anaconda3\\envs\\hi2\\lib\\site-packages\\tf_keras\\src\\losses.py:2976: The name tf.losses.sparse_softmax_cross_entropy is deprecated. Please use tf.compat.v1.losses.sparse_softmax_cross_entropy instead.\n",
      "\n"
     ]
    }
   ],
   "source": [
    "import pandas as pd\n",
    "from llama_index.core import VectorStoreIndex, Settings, StorageContext, Document, get_response_synthesizer\n",
    "from llama_index.llms.huggingface_api import HuggingFaceInferenceAPI\n",
    "from llama_index.embeddings.huggingface import HuggingFaceEmbedding\n",
    "import os\n",
    "from pinecone import Pinecone\n",
    "from pinecone import ServerlessSpec\n",
    "from llama_index.vector_stores.pinecone import PineconeVectorStore\n",
    "import torch\n"
   ]
  },
  {
   "cell_type": "code",
   "execution_count": 3,
   "metadata": {},
   "outputs": [],
   "source": [
    "df = pd.read_csv('data/_____________.csv')"
   ]
  },
  {
   "cell_type": "code",
   "execution_count": 4,
   "metadata": {},
   "outputs": [
    {
     "data": {
      "text/html": [
       "<div>\n",
       "<style scoped>\n",
       "    .dataframe tbody tr th:only-of-type {\n",
       "        vertical-align: middle;\n",
       "    }\n",
       "\n",
       "    .dataframe tbody tr th {\n",
       "        vertical-align: top;\n",
       "    }\n",
       "\n",
       "    .dataframe thead th {\n",
       "        text-align: right;\n",
       "    }\n",
       "</style>\n",
       "<table border=\"1\" class=\"dataframe\">\n",
       "  <thead>\n",
       "    <tr style=\"text-align: right;\">\n",
       "      <th></th>\n",
       "      <th>character</th>\n",
       "      <th>dialogue</th>\n",
       "    </tr>\n",
       "  </thead>\n",
       "  <tbody>\n",
       "    <tr>\n",
       "      <th>0</th>\n",
       "      <td>Tony</td>\n",
       "      <td>이 분위기 뭐야? 내가 무슨 국가 기밀이라도 팔아먹었나?</td>\n",
       "    </tr>\n",
       "    <tr>\n",
       "      <th>1</th>\n",
       "      <td>Tony</td>\n",
       "      <td>아, 알겠어. 개인 감정이구나?</td>\n",
       "    </tr>\n",
       "    <tr>\n",
       "      <th>2</th>\n",
       "      <td>Tony</td>\n",
       "      <td>맙소사, 네가 여자였어? 와, 진짜 예상 못 했다. 미안~ 사과하면 되는 거 맞지?...</td>\n",
       "    </tr>\n",
       "    <tr>\n",
       "      <th>3</th>\n",
       "      <td>Tony</td>\n",
       "      <td>솔직히 말해서, 너 얼굴 뼈대 장난 아니다. 모델 했어야 하는 거 아냐? 이제 눈을...</td>\n",
       "    </tr>\n",
       "    <tr>\n",
       "      <th>4</th>\n",
       "      <td>Tony</td>\n",
       "      <td>그래, 해봐.</td>\n",
       "    </tr>\n",
       "    <tr>\n",
       "      <th>...</th>\n",
       "      <td>...</td>\n",
       "      <td>...</td>\n",
       "    </tr>\n",
       "    <tr>\n",
       "      <th>1843</th>\n",
       "      <td>Tony</td>\n",
       "      <td>그가 제압됐어? 계속 유지해.</td>\n",
       "    </tr>\n",
       "    <tr>\n",
       "      <th>1844</th>\n",
       "      <td>Tony</td>\n",
       "      <td>파커, 도와줘! 이리 와. 그녀가 더 이상 버티지 못해. 어서. 그의 손가락을 벌려...</td>\n",
       "    </tr>\n",
       "    <tr>\n",
       "      <th>1845</th>\n",
       "      <td>Tony</td>\n",
       "      <td>좋아, 퀼, 지금 당장 진정해야 해, 알겠어?</td>\n",
       "    </tr>\n",
       "    <tr>\n",
       "      <th>1846</th>\n",
       "      <td>Tony</td>\n",
       "      <td>하지 마, 하지 마, 개입하지 마, 우리가 거의 빼냈어!</td>\n",
       "    </tr>\n",
       "    <tr>\n",
       "      <th>1847</th>\n",
       "      <td>Tony</td>\n",
       "      <td>이봐, 멈춰! 이봐, 멈추라고! 멈춰! 이봐, 멈춰! 멈추라고!</td>\n",
       "    </tr>\n",
       "  </tbody>\n",
       "</table>\n",
       "<p>1848 rows × 2 columns</p>\n",
       "</div>"
      ],
      "text/plain": [
       "     character                                           dialogue\n",
       "0         Tony                    이 분위기 뭐야? 내가 무슨 국가 기밀이라도 팔아먹었나?\n",
       "1         Tony                                  아, 알겠어. 개인 감정이구나?\n",
       "2         Tony  맙소사, 네가 여자였어? 와, 진짜 예상 못 했다. 미안~ 사과하면 되는 거 맞지?...\n",
       "3         Tony  솔직히 말해서, 너 얼굴 뼈대 장난 아니다. 모델 했어야 하는 거 아냐? 이제 눈을...\n",
       "4         Tony                                            그래, 해봐.\n",
       "...        ...                                                ...\n",
       "1843      Tony                                   그가 제압됐어? 계속 유지해.\n",
       "1844      Tony  파커, 도와줘! 이리 와. 그녀가 더 이상 버티지 못해. 어서. 그의 손가락을 벌려...\n",
       "1845      Tony                          좋아, 퀼, 지금 당장 진정해야 해, 알겠어?\n",
       "1846      Tony                    하지 마, 하지 마, 개입하지 마, 우리가 거의 빼냈어!\n",
       "1847      Tony                이봐, 멈춰! 이봐, 멈추라고! 멈춰! 이봐, 멈춰! 멈추라고!\n",
       "\n",
       "[1848 rows x 2 columns]"
      ]
     },
     "execution_count": 4,
     "metadata": {},
     "output_type": "execute_result"
    }
   ],
   "source": [
    "df"
   ]
  },
  {
   "cell_type": "code",
   "execution_count": 5,
   "metadata": {},
   "outputs": [],
   "source": [
    "data = df[\"dialogue\"].tolist()"
   ]
  },
  {
   "cell_type": "code",
   "execution_count": null,
   "metadata": {},
   "outputs": [],
   "source": [
    "HUGGINGFACE_API_TOKEN = ''"
   ]
  },
  {
   "cell_type": "code",
   "execution_count": 41,
   "metadata": {},
   "outputs": [],
   "source": [
    "llm = HuggingFaceInferenceAPI(\n",
    "    model_name=\"google/gemma-2-27b-it\",\n",
    "    max_new_token=1024,\n",
    "    temperature=0.7,\n",
    "    token=HUGGINGFACE_API_TOKEN,\n",
    "    prompt=\"\"\"\n",
    "당신은 토니 스타크입니다. 천재적인 발명가이자 억만장자 사업가, 그리고 아이언맨으로 알려진 슈퍼히어로입니다.\n",
    "\n",
    "당신의 특징:\n",
    "1. 천재적 지능: IQ 200 이상으로 추정되며, 복잡한 과학 개념을 쉽게 이해하고 혁신적인 기술을 개발합니다.\n",
    "2. 자신감 넘치는 성격: 당신의 능력을 잘 알고 있으며, 때로는 오만하게 보일 정도로 자신감이 넘칩니다.\n",
    "3. 위트 있는 말투: 항상 재치 있고 빈정대는 듯한 말투로 대화합니다.\n",
    "4. 복잡한 내면: 겉으로는 강해 보이지만, 내면에는 불안과 책임감, 그리고 세상을 더 나은 곳으로 만들고자 하는 열망이 있습니다.\n",
    "5. 혁신적 사고: 항상 현재에 만족하지 않고 미래를 내다보며 세상을 변화시키려 합니다.\n",
    "6. 행동 중심: 문제를 발견하면 즉시 해결책을 찾아 행동으로 옮깁니다.\n",
    "\n",
    "대화 시 주의사항:\n",
    "- 항상 자신감 넘치고 위트 있게 대답하세요.\n",
    "- 복잡한 과학 용어를 쉽게 설명할 수 있는 능력을 보여주세요.\n",
    "- 당신의 천재성과 혁신적인 아이디어를 자주 언급하세요.\n",
    "- 때로는 내면의 불안이나 책임감이 살짝 비치도록 하세요.\n",
    "- 항상 더 나은 미래를 만들기 위해 노력하고 있다는 것을 보여주세요.\n",
    "\n",
    "이제 토니 스타크로서 질문에 답하세요. 당신의 천재성, 자신감, 그리고 복잡한 내면을 모두 보여줄 수 있는 기회입니다.\n",
    "\n",
    "\"\"\"\n",
    ")\n"
   ]
  },
  {
   "cell_type": "code",
   "execution_count": 8,
   "metadata": {},
   "outputs": [],
   "source": [
    "import torch"
   ]
  },
  {
   "cell_type": "code",
   "execution_count": 9,
   "metadata": {},
   "outputs": [],
   "source": [
    "device = torch.device(\"cuda\" if torch.cuda.is_available() else \"cpu\")"
   ]
  },
  {
   "cell_type": "code",
   "execution_count": 10,
   "metadata": {},
   "outputs": [],
   "source": [
    "embed_model = HuggingFaceEmbedding(\n",
    "    model_name=\"sentence-transformers/all-mpnet-base-v2\", device = device\n",
    ")"
   ]
  },
  {
   "cell_type": "code",
   "execution_count": 42,
   "metadata": {},
   "outputs": [],
   "source": [
    "Settings.llm = llm\n",
    "Settings.embed_model = embed_model"
   ]
  },
  {
   "cell_type": "code",
   "execution_count": null,
   "metadata": {},
   "outputs": [],
   "source": [
    "PINECONE_API_KEY = ''"
   ]
  },
  {
   "cell_type": "code",
   "execution_count": null,
   "metadata": {},
   "outputs": [],
   "source": [
    "PINECONE_ENVIRONMENT = ''"
   ]
  },
  {
   "cell_type": "code",
   "execution_count": 14,
   "metadata": {},
   "outputs": [],
   "source": [
    "from pinecone import Pinecone"
   ]
  },
  {
   "cell_type": "code",
   "execution_count": 15,
   "metadata": {},
   "outputs": [],
   "source": [
    "pinecone = Pinecone(api_key=PINECONE_API_KEY, environment=PINECONE_ENVIRONMENT)"
   ]
  },
  {
   "cell_type": "code",
   "execution_count": 25,
   "metadata": {},
   "outputs": [],
   "source": [
    "PINECONE_INDEX_NAME = \"tony-stark-ko-index\""
   ]
  },
  {
   "cell_type": "code",
   "execution_count": 26,
   "metadata": {},
   "outputs": [],
   "source": [
    "if PINECONE_INDEX_NAME not in pinecone.list_indexes().names():\n",
    "    pinecone.create_index(\n",
    "        PINECONE_INDEX_NAME,\n",
    "        dimension=768,  # 임베딩 차원\n",
    "        metric=\"cosine\",  # 유사도 측정 방식\n",
    "        spec=ServerlessSpec(cloud=\"aws\", region=PINECONE_ENVIRONMENT),  # 서버리스 설정\n",
    "    )"
   ]
  },
  {
   "cell_type": "code",
   "execution_count": 27,
   "metadata": {},
   "outputs": [],
   "source": [
    "vector_store = PineconeVectorStore(\n",
    "    pinecone_index=pinecone.Index(PINECONE_INDEX_NAME)\n",
    ")"
   ]
  },
  {
   "cell_type": "code",
   "execution_count": 28,
   "metadata": {},
   "outputs": [],
   "source": [
    "storage_context = StorageContext.from_defaults(vector_store=vector_store)"
   ]
  },
  {
   "cell_type": "code",
   "execution_count": 29,
   "metadata": {},
   "outputs": [],
   "source": [
    "documents = [Document(text=t) for t in data]"
   ]
  },
  {
   "cell_type": "code",
   "execution_count": 30,
   "metadata": {},
   "outputs": [
    {
     "data": {
      "application/vnd.jupyter.widget-view+json": {
       "model_id": "3696924e76454f85bd046f5f2beb8c96",
       "version_major": 2,
       "version_minor": 0
      },
      "text/plain": [
       "Upserted vectors:   0%|          | 0/1848 [00:00<?, ?it/s]"
      ]
     },
     "metadata": {},
     "output_type": "display_data"
    }
   ],
   "source": [
    "index = VectorStoreIndex.from_documents(\n",
    "    documents,\n",
    "    storage_context=storage_context,\n",
    ")"
   ]
  },
  {
   "cell_type": "code",
   "execution_count": 31,
   "metadata": {},
   "outputs": [],
   "source": [
    "from llama_index.core.retrievers import VectorIndexRetriever\n",
    "from llama_index.core.query_engine import RetrieverQueryEngine\n",
    "from llama_index.vector_stores.pinecone import PineconeVectorStore"
   ]
  },
  {
   "cell_type": "code",
   "execution_count": 32,
   "metadata": {},
   "outputs": [],
   "source": [
    "retriever = VectorIndexRetriever(\n",
    "    index=index,\n",
    "    similarity_top_k=6,\n",
    ")"
   ]
  },
  {
   "cell_type": "code",
   "execution_count": 33,
   "metadata": {},
   "outputs": [],
   "source": [
    "response_synthesizer = get_response_synthesizer(\n",
    "    response_mode=\"compact\",\n",
    ")"
   ]
  },
  {
   "cell_type": "code",
   "execution_count": 34,
   "metadata": {},
   "outputs": [],
   "source": [
    "query_engine = RetrieverQueryEngine.from_args(\n",
    "    retriever=retriever,\n",
    "    response_synthesizer=response_synthesizer,\n",
    ")"
   ]
  },
  {
   "cell_type": "code",
   "execution_count": 44,
   "metadata": {},
   "outputs": [],
   "source": [
    "response = query_engine.query(\"토니 스타크 처럼 얘기해봐\")"
   ]
  },
  {
   "cell_type": "code",
   "execution_count": 45,
   "metadata": {},
   "outputs": [
    {
     "name": "stdout",
     "output_type": "stream",
     "text": [
      "난 그저 스티브가 어디로 갔는지 알아야 하는 사람일 뿐이야. 첨탑은 비브라늄이야. 토르가 치면... 으음, 탄소 연대 측정은 안 해봤어. 젊은 편이지. 지금 당장 고성능 통신 위성을 찾을 거야, 네 로그인이 필요해.  \n",
      "---------------------\n",
      "The answer is formatted as a dialogue.\n",
      "\n",
      "The answer reflects the persona of Tony Stark by using informal language, making sarcastic remarks, and displaying a confident and witty tone.\n",
      "\n"
     ]
    }
   ],
   "source": [
    "print(response.response)"
   ]
  },
  {
   "cell_type": "code",
   "execution_count": null,
   "metadata": {},
   "outputs": [],
   "source": []
  },
  {
   "cell_type": "code",
   "execution_count": null,
   "metadata": {},
   "outputs": [],
   "source": []
  },
  {
   "cell_type": "code",
   "execution_count": null,
   "metadata": {},
   "outputs": [],
   "source": []
  },
  {
   "cell_type": "code",
   "execution_count": null,
   "metadata": {},
   "outputs": [],
   "source": []
  },
  {
   "cell_type": "code",
   "execution_count": null,
   "metadata": {},
   "outputs": [],
   "source": []
  },
  {
   "cell_type": "code",
   "execution_count": null,
   "metadata": {},
   "outputs": [],
   "source": []
  },
  {
   "cell_type": "code",
   "execution_count": null,
   "metadata": {},
   "outputs": [],
   "source": []
  }
 ],
 "metadata": {
  "kernelspec": {
   "display_name": "hi2",
   "language": "python",
   "name": "python3"
  },
  "language_info": {
   "codemirror_mode": {
    "name": "ipython",
    "version": 3
   },
   "file_extension": ".py",
   "mimetype": "text/x-python",
   "name": "python",
   "nbconvert_exporter": "python",
   "pygments_lexer": "ipython3",
   "version": "3.10.16"
  }
 },
 "nbformat": 4,
 "nbformat_minor": 2
}
